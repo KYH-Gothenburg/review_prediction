{
 "cells": [
  {
   "cell_type": "code",
   "execution_count": 130,
   "metadata": {
    "collapsed": true
   },
   "outputs": [],
   "source": [
    "import pandas as pd\n",
    "\n",
    "pet_df = pd.read_json('pet_supplies_3000.json', lines=True)"
   ]
  },
  {
   "cell_type": "code",
   "execution_count": 131,
   "outputs": [
    {
     "data": {
      "text/plain": "       reviewerID        asin           reviewerName helpful  \\\n0  A14CK12J7C7JRK  1223000893     Consumer in NorCal  [0, 0]   \n1  A39QHP5WLON5HV  1223000893        Melodee Placial  [0, 0]   \n2  A2CR37UY3VR7BN  1223000893       Michelle Ashbery  [0, 0]   \n3  A2A4COGL9VW2HY  1223000893             Michelle P  [2, 2]   \n4  A2UBQA85NIGLHA  1223000893  Tim  Isenhour \"Timbo\"  [6, 7]   \n\n                                          reviewText  overall  \\\n0  I purchased the Trilogy with hoping my two cat...        3   \n1  There are usually one or more of my cats watch...        5   \n2  I bought the triliogy and have tested out all ...        4   \n3  My female kitty could care less about these vi...        4   \n4  If I had gotten just volume two, I would have ...        3   \n\n                                             summary  unixReviewTime  \\\n0  Nice Distraction for my cats for about 15 minutes      1294790400   \n1                           Entertaining for my cats      1379116800   \n2                                       Entertaining      1355875200   \n3                                 Happy to have them      1305158400   \n4                         You really only need vol 2      1330905600   \n\n    reviewTime  \n0  01 12, 2011  \n1  09 14, 2013  \n2  12 19, 2012  \n3  05 12, 2011  \n4   03 5, 2012  ",
      "text/html": "<div>\n<style scoped>\n    .dataframe tbody tr th:only-of-type {\n        vertical-align: middle;\n    }\n\n    .dataframe tbody tr th {\n        vertical-align: top;\n    }\n\n    .dataframe thead th {\n        text-align: right;\n    }\n</style>\n<table border=\"1\" class=\"dataframe\">\n  <thead>\n    <tr style=\"text-align: right;\">\n      <th></th>\n      <th>reviewerID</th>\n      <th>asin</th>\n      <th>reviewerName</th>\n      <th>helpful</th>\n      <th>reviewText</th>\n      <th>overall</th>\n      <th>summary</th>\n      <th>unixReviewTime</th>\n      <th>reviewTime</th>\n    </tr>\n  </thead>\n  <tbody>\n    <tr>\n      <th>0</th>\n      <td>A14CK12J7C7JRK</td>\n      <td>1223000893</td>\n      <td>Consumer in NorCal</td>\n      <td>[0, 0]</td>\n      <td>I purchased the Trilogy with hoping my two cat...</td>\n      <td>3</td>\n      <td>Nice Distraction for my cats for about 15 minutes</td>\n      <td>1294790400</td>\n      <td>01 12, 2011</td>\n    </tr>\n    <tr>\n      <th>1</th>\n      <td>A39QHP5WLON5HV</td>\n      <td>1223000893</td>\n      <td>Melodee Placial</td>\n      <td>[0, 0]</td>\n      <td>There are usually one or more of my cats watch...</td>\n      <td>5</td>\n      <td>Entertaining for my cats</td>\n      <td>1379116800</td>\n      <td>09 14, 2013</td>\n    </tr>\n    <tr>\n      <th>2</th>\n      <td>A2CR37UY3VR7BN</td>\n      <td>1223000893</td>\n      <td>Michelle Ashbery</td>\n      <td>[0, 0]</td>\n      <td>I bought the triliogy and have tested out all ...</td>\n      <td>4</td>\n      <td>Entertaining</td>\n      <td>1355875200</td>\n      <td>12 19, 2012</td>\n    </tr>\n    <tr>\n      <th>3</th>\n      <td>A2A4COGL9VW2HY</td>\n      <td>1223000893</td>\n      <td>Michelle P</td>\n      <td>[2, 2]</td>\n      <td>My female kitty could care less about these vi...</td>\n      <td>4</td>\n      <td>Happy to have them</td>\n      <td>1305158400</td>\n      <td>05 12, 2011</td>\n    </tr>\n    <tr>\n      <th>4</th>\n      <td>A2UBQA85NIGLHA</td>\n      <td>1223000893</td>\n      <td>Tim  Isenhour \"Timbo\"</td>\n      <td>[6, 7]</td>\n      <td>If I had gotten just volume two, I would have ...</td>\n      <td>3</td>\n      <td>You really only need vol 2</td>\n      <td>1330905600</td>\n      <td>03 5, 2012</td>\n    </tr>\n  </tbody>\n</table>\n</div>"
     },
     "execution_count": 131,
     "metadata": {},
     "output_type": "execute_result"
    }
   ],
   "source": [
    "pet_df.head()"
   ],
   "metadata": {
    "collapsed": false,
    "pycharm": {
     "name": "#%%\n"
    }
   }
  },
  {
   "cell_type": "code",
   "execution_count": 132,
   "outputs": [
    {
     "data": {
      "text/plain": "[0, 0]      2092\n[1, 1]       373\n[2, 2]        99\n[0, 1]        71\n[3, 3]        44\n            ... \n[22, 27]       1\n[26, 27]       1\n[1, 7]         1\n[15, 17]       1\n[7, 11]        1\nName: helpful, Length: 103, dtype: int64"
     },
     "execution_count": 132,
     "metadata": {},
     "output_type": "execute_result"
    }
   ],
   "source": [
    "pd.value_counts(pet_df['helpful'])"
   ],
   "metadata": {
    "collapsed": false,
    "pycharm": {
     "name": "#%%\n"
    }
   }
  },
  {
   "cell_type": "code",
   "execution_count": 108,
   "outputs": [
    {
     "data": {
      "text/plain": "5    74178\n4    20744\n3    11907\n2     6912\n1     6907\nName: overall, dtype: int64"
     },
     "execution_count": 108,
     "metadata": {},
     "output_type": "execute_result"
    }
   ],
   "source": [
    "pd.value_counts(pet_df['overall'])"
   ],
   "metadata": {
    "collapsed": false,
    "pycharm": {
     "name": "#%%\n"
    }
   }
  },
  {
   "cell_type": "code",
   "execution_count": 109,
   "outputs": [],
   "source": [
    "class Sentiment:\n",
    "    positive = \"POSITIVE\"\n",
    "    neutral = \"NEUTRAL\"\n",
    "    negative = \"NEGATIVE\"\n",
    "\n",
    "\n",
    "class Review:\n",
    "    def __init__(self, text, score):\n",
    "        self.text = text\n",
    "        self.score = score\n",
    "        self.sentiment = Sentiment.negative if score <= 2 else Sentiment.neutral if score <= 3 else Sentiment.positive"
   ],
   "metadata": {
    "collapsed": false,
    "pycharm": {
     "name": "#%%\n"
    }
   }
  },
  {
   "cell_type": "code",
   "execution_count": 110,
   "outputs": [],
   "source": [
    "import re\n",
    "import string\n",
    "import contractions\n",
    "\n",
    "\n",
    "def clean_text(text):\n",
    "    text = text.lower()\n",
    "\n",
    "    # Remove punctuation marks\n",
    "    text = re.sub('[%s]' % re.escape(string.punctuation), '', text)\n",
    "    # Remove digits from the text\n",
    "    text = re.sub(r'\\w*\\d\\w*', '', text)\n",
    "    return text\n",
    "\n",
    "\n",
    "def fix_text(text):\n",
    "    # Contractions will expand words such as it's to it is\n",
    "    text = contractions.fix(text)\n",
    "    # Call our clean_text function\n",
    "    text = clean_text(text)\n",
    "\n",
    "    # Read the stopwords from the stopwords.txt file and remove line breaks\n",
    "    # The result will be a list of strings\n",
    "    stopwords = [word.strip() for word in open('stopwords.txt')]\n",
    "    # Remove all stopwords from the text\n",
    "    text = ' '.join([word for word in text.split() if word not in stopwords])\n",
    "\n",
    "    return text"
   ],
   "metadata": {
    "collapsed": false,
    "pycharm": {
     "name": "#%%\n"
    }
   }
  },
  {
   "cell_type": "code",
   "execution_count": 111,
   "outputs": [],
   "source": [
    "import json\n",
    "\n",
    "reviews = []\n",
    "\n",
    "with open('pet_supplies_30000.json', 'r') as in_file:\n",
    "    for line in in_file:\n",
    "        data = json.loads(line)\n",
    "        text = data['reviewText']\n",
    "        score = data['overall']\n",
    "        text = fix_text(text)\n",
    "        reviews.append(Review(text, score))"
   ],
   "metadata": {
    "collapsed": false,
    "pycharm": {
     "name": "#%%\n"
    }
   }
  },
  {
   "cell_type": "code",
   "execution_count": 112,
   "outputs": [
    {
     "name": "stdout",
     "output_type": "stream",
     "text": [
      "purchased trilogy hoping two cats age would interested yr old cat fascinated minutes pictures came got bored year old watched minutes walked away possible wonderful courtyard full greenery trees one neighbors bird feeder enough going outside prefer real life versus taped version likely pass friend cats much wildlife watch mine\n"
     ]
    }
   ],
   "source": [
    "print(reviews[0].text)"
   ],
   "metadata": {
    "collapsed": false,
    "pycharm": {
     "name": "#%%\n"
    }
   }
  },
  {
   "cell_type": "code",
   "execution_count": 113,
   "outputs": [
    {
     "name": "stdout",
     "output_type": "stream",
     "text": [
      "5.0\n"
     ]
    }
   ],
   "source": [
    "print(reviews[1].score)"
   ],
   "metadata": {
    "collapsed": false,
    "pycharm": {
     "name": "#%%\n"
    }
   }
  },
  {
   "cell_type": "code",
   "execution_count": 114,
   "outputs": [
    {
     "name": "stdout",
     "output_type": "stream",
     "text": [
      "POSITIVE\n"
     ]
    }
   ],
   "source": [
    "print(reviews[1].sentiment)"
   ],
   "metadata": {
    "collapsed": false,
    "pycharm": {
     "name": "#%%\n"
    }
   }
  },
  {
   "cell_type": "code",
   "execution_count": 115,
   "outputs": [
    {
     "name": "stdout",
     "output_type": "stream",
     "text": [
      "30000\n"
     ]
    }
   ],
   "source": [
    "print(len(reviews))"
   ],
   "metadata": {
    "collapsed": false,
    "pycharm": {
     "name": "#%%\n"
    }
   }
  },
  {
   "cell_type": "code",
   "execution_count": 116,
   "outputs": [],
   "source": [
    "from sklearn.model_selection import train_test_split\n",
    "\n",
    "training_data, test_data = train_test_split(reviews, test_size=0.33, random_state=42)"
   ],
   "metadata": {
    "collapsed": false,
    "pycharm": {
     "name": "#%%\n"
    }
   }
  },
  {
   "cell_type": "code",
   "execution_count": 117,
   "outputs": [
    {
     "name": "stdout",
     "output_type": "stream",
     "text": [
      "20100\n",
      "9900\n"
     ]
    }
   ],
   "source": [
    "print(len(training_data))\n",
    "print(len(test_data))"
   ],
   "metadata": {
    "collapsed": false,
    "pycharm": {
     "name": "#%%\n"
    }
   }
  },
  {
   "cell_type": "code",
   "execution_count": 118,
   "outputs": [
    {
     "name": "stdout",
     "output_type": "stream",
     "text": [
      "use curved glass aquarium whole slew fish breeding crowded situation started three fish least sixty heavy duty filter keeps water clean clear despite huge population aquarium inhabitants saved dayupdate september changed cartridges filter must say despite utterly filthy get water still stays crystal clear cannot think higher accolade gazillion platies green severum cory cat two clown loaches picture health hail tetra whisper\n",
      "****************************************\n",
      "kids love food treat meal keep going back bowl look morei love fact red barn never recall great job redbarn\n"
     ]
    }
   ],
   "source": [
    "print(training_data[0].text)\n",
    "print('*'*40)\n",
    "print(test_data[0].text)"
   ],
   "metadata": {
    "collapsed": false,
    "pycharm": {
     "name": "#%%\n"
    }
   }
  },
  {
   "cell_type": "code",
   "execution_count": 119,
   "outputs": [],
   "source": [
    "train_x = [review.text for review in training_data]\n",
    "train_y = [review.sentiment for review in training_data]\n",
    "\n",
    "test_x = [review.text for review in test_data]\n",
    "test_y = [review.sentiment for review in test_data]"
   ],
   "metadata": {
    "collapsed": false,
    "pycharm": {
     "name": "#%%\n"
    }
   }
  },
  {
   "cell_type": "code",
   "execution_count": 120,
   "outputs": [],
   "source": [
    "from sklearn.feature_extraction.text import CountVectorizer\n",
    "\n",
    "vectorizer = CountVectorizer()\n",
    "train_x_vectors = vectorizer.fit_transform(train_x)"
   ],
   "metadata": {
    "collapsed": false,
    "pycharm": {
     "name": "#%%\n"
    }
   }
  },
  {
   "cell_type": "code",
   "execution_count": 121,
   "outputs": [
    {
     "name": "stderr",
     "output_type": "stream",
     "text": [
      "c:\\code\\ml\\nlp\\venv\\lib\\site-packages\\sklearn\\utils\\deprecation.py:87: FutureWarning: Function get_feature_names is deprecated; get_feature_names is deprecated in 1.0 and will be removed in 1.2. Please use get_feature_names_out instead.\n",
      "  warnings.warn(msg, category=FutureWarning)\n"
     ]
    },
    {
     "data": {
      "text/plain": "['aa',\n 'aaa',\n 'aaaand',\n 'aafco',\n 'aand',\n 'aannounce',\n 'aaquaclear',\n 'aaqueon',\n 'aat',\n 'ab',\n 'aback',\n 'abandon',\n 'abandoned',\n 'abandonment',\n 'abandonned',\n 'abandons',\n 'abate',\n 'abated',\n 'abbey',\n 'abbeys',\n 'abby',\n 'abdomen',\n 'abhor',\n 'abhors',\n 'abide',\n 'abigail',\n 'abilities',\n 'abilitiessummary',\n 'ability',\n 'abissell',\n 'abit',\n 'able',\n 'ablebeen',\n 'abnormal',\n 'abnormally',\n 'aboout',\n 'abosrbant',\n 'abotu',\n 'abound',\n 'aboundsynergy',\n 'abouta',\n 'aboutbut',\n 'abouti',\n 'abouts',\n 'aboutthat',\n 'aboutthe',\n 'aboutthis',\n 'aboutupdate',\n 'aboutwhat',\n 'aboutwill',\n 'aboveaverage',\n 'abovekaytee',\n 'aboverubber',\n 'abovetank',\n 'aboveupdate',\n 'abraded',\n 'abrasion',\n 'abrasions',\n 'abrasive',\n 'abscess',\n 'absence',\n 'absencehowever',\n 'absent',\n 'absessed',\n 'absoloutely',\n 'absolute',\n 'absolutely',\n 'absolutelyrefused',\n 'absolutley',\n 'absorb',\n 'absorbance',\n 'absorbancy',\n 'absorbant',\n 'absorbanti',\n 'absorbed',\n 'absorbency',\n 'absorbent',\n 'absorbents',\n 'absorbentwe',\n 'absorbers',\n 'absorbing',\n 'absorbingso',\n 'absorbs',\n 'absorbsion',\n 'absorption',\n 'absurd',\n 'abt',\n 'abts',\n 'abundance',\n 'abundant',\n 'abuse',\n 'abused',\n 'abuseof',\n 'abuses',\n 'abusethis',\n 'abusive',\n 'abyssinians',\n 'ac',\n 'academy',\n 'acanaorijen',\n 'acanas',\n 'acatit',\n 'acbattery',\n 'acc',\n 'accelerates',\n 'accept',\n 'acceptable',\n 'acceptablei',\n 'acceptance',\n 'accepted',\n 'accepting',\n 'accepts',\n 'accesory',\n 'access',\n 'accessable',\n 'accessed',\n 'accessibility',\n 'accessible',\n 'accessit',\n 'accessories',\n 'accessory',\n 'accessorythese',\n 'accident',\n 'accidental',\n 'accidentally',\n 'accidented',\n 'accidently',\n 'accidentmy',\n 'accidents',\n 'accidentsif',\n 'accidentsthe',\n 'accidentsthis',\n 'accidentswill',\n 'accidenttotal',\n 'acclimate',\n 'acclimated',\n 'acclimating',\n 'acclimation',\n 'accolade',\n 'accomidate',\n 'accommodate',\n 'accommodates',\n 'accomodate',\n 'accompanied',\n 'accompanies',\n 'accompany',\n 'accompanying',\n 'accomplish',\n 'accomplished',\n 'accomplishedi',\n 'accomplishes',\n 'accomplishing',\n 'accomplishment',\n 'accord',\n 'accordian',\n 'according',\n 'accordingly',\n 'accordinglythat',\n 'accordion',\n 'account',\n 'accounts',\n 'accouterment',\n 'accross',\n 'accsusan',\n 'accuair',\n 'accuclear',\n 'accumlatea',\n 'accumulate',\n 'accumulated',\n 'accumulates',\n 'accumulating',\n 'accuracy',\n 'accurate',\n 'accuratei',\n 'accurateit',\n 'accurately',\n 'accuratemust',\n 'accurateshould',\n 'accuratethat',\n 'accuratewish',\n 'accused',\n 'accustom',\n 'accustomed',\n 'accustomedto',\n 'accustoming',\n 'acdcorgi',\n 'acdred',\n 'ace',\n 'ach',\n 'ache',\n 'ached',\n 'aches',\n 'achey',\n 'achieve',\n 'achieved',\n 'aching',\n 'achy',\n 'acid',\n 'acidbased',\n 'acidcrude',\n 'acidic',\n 'acidolphilus',\n 'acidophilus',\n 'acids',\n 'acidsdogs',\n 'acidsfish',\n 'acknowledge',\n 'acknowledged',\n 'acl',\n 'acls',\n 'acne',\n 'acquaintance',\n 'acquarium',\n 'acquire',\n 'acquired',\n 'acquiring',\n 'acre',\n 'acreagelots',\n 'acres',\n 'acrobat',\n 'acrobatic',\n 'acrobator',\n 'across',\n 'acrossi',\n 'acrylic',\n 'acs',\n 'act',\n 'actconclusionsince',\n 'acted',\n 'acting',\n 'action',\n 'actionconsnonei',\n 'actions',\n 'activate',\n 'activated',\n 'activates',\n 'activating',\n 'activationturn',\n 'active',\n 'activehappier',\n 'actively',\n 'activewear',\n 'activiity',\n 'activities',\n 'activitiesi',\n 'activity',\n 'activityso',\n 'acts',\n 'actual',\n 'actually',\n 'actuallymy',\n 'actualy',\n 'acupressure',\n 'acurate',\n 'acute',\n 'acv',\n 'ad',\n 'ada',\n 'adamant',\n 'adams',\n 'adapt',\n 'adaptable',\n 'adapted',\n 'adapter',\n 'adapterand',\n 'adapters',\n 'adapting',\n 'adaptingsummarythis',\n 'adaptive',\n 'adaptor',\n 'adaptors',\n 'adaptorsthis',\n 'adapts',\n 'adaquate',\n 'add',\n 'addchange',\n 'adddelete',\n 'added',\n 'addedcalcium',\n 'addedit',\n 'addendum',\n 'addict',\n 'addicted',\n 'addiction',\n 'addictions',\n 'addictive',\n 'adding',\n 'addison',\n 'addition',\n 'additional',\n 'additionally',\n 'additions',\n 'additive',\n 'additives',\n 'addnuf',\n 'addon',\n 'address',\n 'addressable',\n 'addressed',\n 'addresses',\n 'addressing',\n 'adds',\n 'addtional',\n 'adept',\n 'adequate',\n 'adequately',\n 'adf',\n 'adhd',\n 'adhere',\n 'adhered',\n 'adheres',\n 'adhering',\n 'adhesive',\n 'adhesiveaccurate',\n 'adhesives',\n 'adjoin',\n 'adjoining',\n 'adjunct',\n 'adjust',\n 'adjustability',\n 'adjustable',\n 'adjustableaimable',\n 'adjustalso',\n 'adjustconsits',\n 'adjusted',\n 'adjustedthey',\n 'adjuster',\n 'adjusti',\n 'adjustible',\n 'adjusting',\n 'adjustment',\n 'adjustmentone',\n 'adjustments',\n 'adjusts',\n 'adjustthey',\n 'administer',\n 'administered',\n 'administering',\n 'administrate',\n 'administration',\n 'administrationin',\n 'admirable',\n 'admirably',\n 'admired',\n 'admission',\n 'admit',\n 'admitted',\n 'admittedly',\n 'admitting',\n 'admonishes',\n 'adoarable',\n 'adolescent',\n 'adopt',\n 'adoptable',\n 'adopted',\n 'adopting',\n 'adoption',\n 'adoptive',\n 'adorable',\n 'adorablehowever',\n 'adorablethe',\n 'adorably',\n 'adore',\n 'adored',\n 'adores',\n 'adoresmy',\n 'adorethese',\n 'adpater',\n 'adremel',\n 'ads',\n 'adsfeafaefaef',\n 'adthe',\n 'adult',\n 'adulthood',\n 'adultif',\n 'adults',\n 'advance',\n 'advanced',\n 'advancedit',\n 'advances',\n 'advantage',\n 'advantageand',\n 'advantageii',\n 'advantageous',\n 'advantages',\n 'advantix',\n 'adventure',\n 'adventures',\n 'adventuring',\n 'adventurous',\n 'adverse',\n 'adversely',\n 'adverted',\n 'advertise',\n 'advertised',\n 'advertisedhowever',\n 'advertisedi',\n 'advertisedif',\n 'advertisedthe',\n 'advertisedwhen',\n 'advertisedwish',\n 'advertisement',\n 'advertisements',\n 'advertises',\n 'advertising',\n 'advertisingi',\n 'advertisted',\n 'advertized',\n 'advertizes',\n 'advice',\n 'adviced',\n 'advicei',\n 'advisable',\n 'advise',\n 'advisebuying',\n 'advised',\n 'advisedrecommend',\n 'advisements',\n 'advisor',\n 'advocate',\n 'aerate',\n 'aerated',\n 'aerates',\n 'aerating',\n 'aeration',\n 'aerator',\n 'aerobic',\n 'aerosol',\n 'aesop',\n 'aesthetic',\n 'aesthetically',\n 'aestheticregardless',\n 'aesthetics',\n 'aestheticsa',\n 'af',\n 'afar',\n 'afco',\n 'afen',\n 'afer',\n 'affair',\n 'affect',\n 'affected',\n 'affecting',\n 'affectionately',\n 'affectionceaser',\n 'affective',\n 'affects',\n 'affenpincher',\n 'affiliated',\n 'affinity',\n 'affirms',\n 'affix',\n 'affixed',\n 'afflictions',\n 'affliliates',\n 'afforadable',\n 'afford',\n 'affordability',\n 'affordabilitythis',\n 'affordable',\n 'affordablei',\n 'affordableperhaps',\n 'affordablewarning',\n 'affordalble',\n 'afforded',\n 'affords',\n 'affortable',\n 'affraid',\n 'afghan',\n 'afloat',\n 'afluval',\n 'aforementioned',\n 'afortunately',\n 'afraid',\n 'africa',\n 'african',\n 'africans',\n 'afro',\n 'afterbout',\n 'afterbut',\n 'aftercare',\n 'afterdecember',\n 'afterlife',\n 'aftermarket',\n 'aftermathfirst',\n 'aftermy',\n 'afternoon',\n 'afternoons',\n 'afternoonset',\n 'aftersmell',\n 'aftertaste',\n 'aftertrying',\n 'afterward',\n 'afterwardafter',\n 'afterwardi',\n 'afterwards',\n 'afterwords',\n 'ag',\n 'agae',\n 'againadded',\n 'againalthough',\n 'againamazing',\n 'againbe',\n 'againbuyer',\n 'againcare',\n 'againeditwould',\n 'againfun',\n 'againgreat',\n 'againhagen',\n 'againhardly',\n 'againhave',\n 'againhe',\n 'againhere',\n 'againhours',\n 'againi',\n 'againif',\n 'againit',\n 'againjust',\n 'againkeep',\n 'againmaybe',\n 'againmidwest',\n 'againmy',\n 'againnor',\n 'againnot',\n 'againnothing',\n 'againnow',\n 'againoh',\n 'againpausewhen',\n 'againprobably',\n 'againproblem',\n 'agains',\n 'againsassy',\n 'againshe',\n 'againso',\n 'againsomething',\n 'againsoon',\n 'againsorry',\n 'againsqueak',\n 'againsqueaker',\n 'againstwhen',\n 'againthe',\n 'againthey',\n 'againunless',\n 'againupdate',\n 'againvoila',\n 'againwater',\n 'againwe',\n 'againwhen',\n 'agassizi',\n 'age',\n 'aged',\n 'ageeveryone',\n 'ageing',\n 'ageingdynamo',\n 'agemy',\n 'agencies',\n 'agency',\n 'agent',\n 'agentif',\n 'agents',\n 'ages',\n 'agesize',\n 'agespecific',\n 'agesun',\n 'agethe',\n 'aggie',\n 'aggitation',\n 'aggravated',\n 'aggravating',\n 'aggravation',\n 'aggregate',\n 'aggresive',\n 'aggression',\n 'aggressive',\n 'aggressively',\n 'aggressivelyyet',\n 'aggresstive',\n 'aggrivate',\n 'aghast',\n 'agiasnt',\n 'agile',\n 'agilewill',\n 'agility',\n 'agin',\n 'agine',\n 'aging',\n 'agingrelated',\n 'agitate',\n 'agitated',\n 'agitates',\n 'agitating',\n 'agitation',\n 'agitationmore',\n 'aglow',\n 'agnostic',\n 'ago',\n 'agoall',\n 'agoand',\n 'agoi',\n 'agoit',\n 'agololdoes',\n 'agonizing',\n 'agony',\n 'agooveralli',\n 'agoshe',\n 'agoso',\n 'agothe',\n 'agowellness',\n 'agravy',\n 'agree',\n 'agreeable',\n 'agreeableperhaps',\n 'agreeably',\n 'agreeand',\n 'agreed',\n 'agreement',\n 'agrees',\n 'agressive',\n 'agressively',\n 'agriculturei',\n 'aguafilter',\n 'aguariums',\n 'ah',\n 'ahd',\n 'ahe',\n 'ahead',\n 'aheavy',\n 'ahh',\n 'ahha',\n 'ahhh',\n 'ahhhhhh',\n 'ahi',\n 'ahold',\n 'ahole',\n 'ahoover',\n 'ai',\n 'aid',\n 'aidbig',\n 'aide',\n 'aides',\n 'aiding',\n 'aids',\n 'aidsthe',\n 'ailing',\n 'ailment',\n 'ailments',\n 'ailmentshe',\n 'aim',\n 'aimed',\n 'aiming',\n 'aimlessly',\n 'aims',\n 'air',\n 'airation',\n 'airbag',\n 'airborn',\n 'airborne',\n 'aircraft',\n 'airdale',\n 'airdalegolden',\n 'airdaletype',\n 'aired',\n 'airedale',\n 'airedales',\n 'aires',\n 'airflow',\n 'airhe',\n 'airholes',\n 'airif',\n 'airin',\n 'airing',\n 'airlift',\n 'airline',\n 'airlineapproved',\n 'airlines',\n 'airplane',\n 'airplanes',\n 'airpod',\n 'airport',\n 'airports',\n 'airportssecurity',\n 'airpump',\n 'airpumps',\n 'airstone',\n 'airstones',\n 'airthe',\n 'airtight',\n 'airtightmy',\n 'airtran',\n 'airtube',\n 'airway',\n 'airways',\n 'airwhen',\n 'airy',\n 'aisle',\n 'ajax',\n 'ajustable',\n 'aka',\n 'akc',\n 'akcbranded',\n 'akin',\n 'aking',\n 'akita',\n 'akong',\n 'aktia',\n 'al',\n 'alarm',\n 'alarmed',\n 'alarming',\n 'alarms',\n 'alarmthank',\n 'alas',\n 'alaska',\n 'alaskan',\n 'alba',\n 'albany',\n 'albeit',\n 'albino',\n 'alcatraz',\n 'alcohol',\n 'alcoholmake',\n 'alcoholno',\n 'alcoholthen',\n 'alcoves',\n 'aldehyde',\n 'aldehydes',\n 'ale',\n 'alerady',\n 'alergic',\n 'alert',\n 'alerted',\n 'alerter',\n 'alerts',\n 'aleviate',\n 'alfalfa',\n 'alfalfabased',\n 'alfalpha',\n 'algae',\n 'algaediatom',\n 'algaefeeding',\n 'algaefix',\n 'algaefixand',\n 'algaeinefficient',\n 'algaeridden',\n 'algaesea',\n 'algaeseaweed',\n 'algaethen',\n 'algaethis',\n 'alge',\n 'algea',\n 'algee',\n 'algone',\n 'ali',\n 'alien',\n 'aliento',\n 'align',\n 'aligned',\n 'alignment',\n 'alike',\n 'alikea',\n 'alittle',\n 'alive',\n 'alkaline',\n 'alla',\n 'allall',\n 'allaround',\n 'allas',\n 'allbottom',\n 'allbrushing',\n 'allcompared',\n 'allday',\n 'alldo',\n 'alleged',\n 'allegedly',\n 'allegy',\n 'allen',\n 'allens',\n 'allergen',\n 'allergenic',\n 'allergenicthe',\n 'allergenictoxic',\n 'allergens',\n 'allergic',\n 'allergictype',\n 'allergies',\n 'allergiesand',\n 'allergiesif',\n 'allergiesmy',\n 'allergiesthese',\n 'allergy',\n 'allergyit',\n 'allergys',\n 'allery',\n 'alleviate',\n 'alleviated',\n 'alley',\n 'allfor',\n 'allglass',\n 'allhe',\n 'allhighly',\n 'alli',\n 'allicin',\n 'alliecat',\n 'allif',\n 'alligator',\n 'allimportant',\n 'allinall',\n 'allinone',\n 'allinstantly',\n 'allit',\n 'alljust',\n 'alll',\n 'alllitter',\n 'allll',\n 'alllll',\n 'alllllll',\n 'allmany',\n 'allmechanical',\n 'allmetal',\n 'allmy',\n 'allnatural',\n 'allnow',\n 'alloh',\n 'allone',\n 'allot',\n 'alloted',\n 'allotment',\n 'allotted',\n 'allout',\n 'allover',\n 'alloverall',\n 'allow',\n 'allowable',\n 'allowance',\n 'allowed',\n 'allowing',\n 'allows',\n 'allowsdo',\n 'allowsupdate',\n 'allowthat',\n 'allpet',\n 'allproduct',\n 'allpros',\n 'allpurpose',\n 'allremove',\n 'alls',\n 'allshe',\n 'allso',\n 'allthe',\n 'allthere',\n 'allthese',\n 'allthey',\n 'allthis',\n 'alltill',\n 'alltime',\n 'alluded',\n 'allure',\n 'allwas',\n 'allwhen',\n 'allwhyafter',\n 'allwith',\n 'allyou',\n 'allyoucaneat',\n 'allyouneedinabox',\n 'almond',\n 'almondcolored',\n 'almonds',\n 'almost',\n 'almostayearold',\n 'aloe',\n 'aloft',\n 'alone',\n 'aloneeditwas',\n 'alonefor',\n 'alonehe',\n 'alonei',\n 'alonesure',\n 'alonethe',\n 'along',\n 'alongside',\n 'aloof',\n 'alopecia',\n 'alos',\n 'alot',\n 'aloti',\n 'aloud',\n 'alpha',\n 'alphafemales',\n 'alpine',\n 'alpo',\n 'alqae',\n 'already',\n 'alreadyhope',\n 'alreadymy',\n 'alreadythis',\n 'alrger',\n 'alright',\n 'als',\n 'alsi',\n 'also',\n 'alsoall',\n 'alsoi',\n 'alsoit',\n 'alsome',\n 'alsoone',\n 'alsothe',\n 'alsoyou',\n 'alter',\n 'altered',\n 'altering',\n 'alternate',\n 'alternated',\n 'alternately',\n 'alternates',\n 'alternating',\n 'alternative',\n 'alternativealso',\n 'alternativei',\n 'alternativeit',\n 'alternatively',\n 'alternatives',\n 'alternativethe',\n 'alters',\n 'altho',\n 'although',\n 'altogether',\n 'altogethereven',\n 'altogetheri',\n 'alum',\n 'aluminum',\n 'alway',\n 'alwaya',\n 'always',\n 'alwaysassembly',\n 'alwaysproducti',\n 'alwsome',\n 'ama',\n 'amacs',\n 'amadeus',\n 'amaizing',\n 'amale',\n 'amamzon',\n 'amanda',\n 'amano',\n 'amarineland',\n 'amassed',\n 'amateurish',\n 'amatuers',\n 'amaze',\n 'amazed',\n 'amazedshe',\n 'amazement',\n 'amazes',\n 'amazing',\n 'amazingcons',\n 'amazingi',\n 'amazingly',\n 'amazinglygood',\n 'amazingout',\n 'amazingthe',\n 'amazon',\n 'amazonand',\n 'amazonbest',\n 'amazoncamco',\n 'amazoncheck',\n 'amazoncom',\n 'amazoncoma',\n 'amazoncomi',\n 'amazondrinkwell',\n 'amazoneverything',\n 'amazonfor',\n 'amazoni',\n 'amazonif',\n 'amazonit',\n 'amazonoffered',\n 'amazonour',\n 'amazonps',\n 'amazons',\n 'amazonshe',\n 'amazonsince',\n 'amazonso',\n 'amazonthanks',\n 'amazonthe',\n 'amazonthey',\n 'amazontip',\n 'amazonupdatei',\n 'amazonwe',\n 'amber',\n 'ambiance',\n 'ambient',\n 'ambiguous',\n 'ambivalent',\n 'amble',\n 'ambut',\n 'amd',\n 'amend',\n 'amenities',\n 'america',\n 'american',\n 'americanmade',\n ...]"
     },
     "execution_count": 121,
     "metadata": {},
     "output_type": "execute_result"
    }
   ],
   "source": [
    "vectorizer.get_feature_names()"
   ],
   "metadata": {
    "collapsed": false,
    "pycharm": {
     "name": "#%%\n"
    }
   }
  },
  {
   "cell_type": "code",
   "execution_count": 122,
   "outputs": [
    {
     "data": {
      "text/plain": "array([[0, 0, 0, ..., 0, 0, 0],\n       [0, 0, 0, ..., 0, 0, 0],\n       [0, 0, 0, ..., 0, 0, 0],\n       ...,\n       [0, 0, 0, ..., 0, 0, 0],\n       [0, 0, 0, ..., 0, 0, 0],\n       [0, 0, 0, ..., 0, 0, 0]], dtype=int64)"
     },
     "execution_count": 122,
     "metadata": {},
     "output_type": "execute_result"
    }
   ],
   "source": [
    "train_x_vectors.toarray()"
   ],
   "metadata": {
    "collapsed": false,
    "pycharm": {
     "name": "#%%\n"
    }
   }
  },
  {
   "cell_type": "code",
   "execution_count": 123,
   "outputs": [
    {
     "data": {
      "text/plain": "SVC(kernel='linear')"
     },
     "execution_count": 123,
     "metadata": {},
     "output_type": "execute_result"
    }
   ],
   "source": [
    "from sklearn.svm import SVC\n",
    "\n",
    "# Create a support vector machine classifier model\n",
    "clf_svm = SVC(kernel='linear')\n",
    "# Train the model\n",
    "clf_svm.fit(train_x_vectors, train_y)"
   ],
   "metadata": {
    "collapsed": false,
    "pycharm": {
     "name": "#%%\n"
    }
   }
  },
  {
   "cell_type": "code",
   "execution_count": 124,
   "outputs": [
    {
     "data": {
      "text/plain": "0.7730303030303031"
     },
     "execution_count": 124,
     "metadata": {},
     "output_type": "execute_result"
    }
   ],
   "source": [
    "test_vectors = vectorizer.transform(test_x)\n",
    "\n",
    "clf_svm.score(test_vectors, test_y)"
   ],
   "metadata": {
    "collapsed": false,
    "pycharm": {
     "name": "#%%\n"
    }
   }
  },
  {
   "cell_type": "code",
   "execution_count": 125,
   "outputs": [
    {
     "data": {
      "text/plain": "LogisticRegression(max_iter=1000)"
     },
     "execution_count": 125,
     "metadata": {},
     "output_type": "execute_result"
    }
   ],
   "source": [
    "from sklearn.linear_model import LogisticRegression\n",
    "\n",
    "# Create a Logistic Regression Model\n",
    "clf_log = LogisticRegression(max_iter=1000)\n",
    "clf_log.fit(train_x_vectors, train_y)"
   ],
   "metadata": {
    "collapsed": false,
    "pycharm": {
     "name": "#%%\n"
    }
   }
  },
  {
   "cell_type": "code",
   "execution_count": 126,
   "outputs": [
    {
     "data": {
      "text/plain": "0.8066666666666666"
     },
     "execution_count": 126,
     "metadata": {},
     "output_type": "execute_result"
    }
   ],
   "source": [
    "clf_log.score(test_vectors, test_y)"
   ],
   "metadata": {
    "collapsed": false,
    "pycharm": {
     "name": "#%%\n"
    }
   }
  },
  {
   "cell_type": "code",
   "execution_count": null,
   "outputs": [],
   "source": [],
   "metadata": {
    "collapsed": false,
    "pycharm": {
     "name": "#%%\n"
    }
   }
  }
 ],
 "metadata": {
  "kernelspec": {
   "display_name": "Python 3",
   "language": "python",
   "name": "python3"
  },
  "language_info": {
   "codemirror_mode": {
    "name": "ipython",
    "version": 2
   },
   "file_extension": ".py",
   "mimetype": "text/x-python",
   "name": "python",
   "nbconvert_exporter": "python",
   "pygments_lexer": "ipython2",
   "version": "2.7.6"
  }
 },
 "nbformat": 4,
 "nbformat_minor": 0
}